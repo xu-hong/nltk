{
 "cells": [
  {
   "cell_type": "code",
   "execution_count": 2,
   "metadata": {
    "collapsed": false
   },
   "outputs": [
    {
     "name": "stdout",
     "output_type": "stream",
     "text": [
      "showing info http://www.nltk.org/nltk_data/\n"
     ]
    },
    {
     "data": {
      "text/plain": [
       "True"
      ]
     },
     "execution_count": 2,
     "metadata": {},
     "output_type": "execute_result"
    }
   ],
   "source": [
    "import nltk\n",
    "nltk.download()"
   ]
  },
  {
   "cell_type": "code",
   "execution_count": 1,
   "metadata": {
    "collapsed": false
   },
   "outputs": [
    {
     "name": "stdout",
     "output_type": "stream",
     "text": [
      "*** Introductory Examples for the NLTK Book ***\n",
      "Loading text1, ..., text9 and sent1, ..., sent9\n",
      "Type the name of the text or sentence to view it.\n",
      "Type: 'texts()' or 'sents()' to list the materials.\n",
      "text1: Moby Dick by Herman Melville 1851\n",
      "text2: Sense and Sensibility by Jane Austen 1811\n",
      "text3: The Book of Genesis\n",
      "text4: Inaugural Address Corpus\n",
      "text5: Chat Corpus\n",
      "text6: Monty Python and the Holy Grail\n",
      "text7: Wall Street Journal\n",
      "text8: Personals Corpus\n",
      "text9: The Man Who Was Thursday by G . K . Chesterton 1908\n"
     ]
    }
   ],
   "source": [
    "from nltk.book import *"
   ]
  },
  {
   "cell_type": "code",
   "execution_count": 33,
   "metadata": {
    "collapsed": false
   },
   "outputs": [
    {
     "name": "stdout",
     "output_type": "stream",
     "text": [
      "['_CONTEXT_RE', '_COPY_TOKENS', '__class__', '__delattr__', '__dict__', '__doc__', '__format__', '__getattribute__', '__getitem__', '__hash__', '__init__', '__len__', '__module__', '__new__', '__reduce__', '__reduce_ex__', '__repr__', '__setattr__', '__sizeof__', '__str__', '__subclasshook__', '__unicode__', '__weakref__', '_concordance_index', '_context', '_word_context_index', 'collocations', 'common_contexts', 'concordance', 'count', 'dispersion_plot', 'findall', 'index', 'name', 'plot', 'readability', 'similar', 'tokens', 'unicode_repr', 'vocab']\n"
     ]
    },
    {
     "data": {
      "text/plain": [
       "u'Moby Dick by Herman Melville 1851'"
      ]
     },
     "execution_count": 33,
     "metadata": {},
     "output_type": "execute_result"
    }
   ],
   "source": [
    "print dir(text1)\n"
   ]
  },
  {
   "cell_type": "code",
   "execution_count": 5,
   "metadata": {
    "collapsed": false
   },
   "outputs": [
    {
     "name": "stdout",
     "output_type": "stream",
     "text": [
      "Displaying 11 of 11 matches:\n",
      "ong the former , one was of a most monstrous size . ... This came towards us , \n",
      "ON OF THE PSALMS . \" Touching that monstrous bulk of the whale or ork we have r\n",
      "ll over with a heathenish array of monstrous clubs and spears . Some were thick\n",
      "d as you gazed , and wondered what monstrous cannibal and savage could ever hav\n",
      "that has survived the flood ; most monstrous and most mountainous ! That Himmal\n",
      "they might scout at Moby Dick as a monstrous fable , or still worse and more de\n",
      "th of Radney .'\" CHAPTER 55 Of the Monstrous Pictures of Whales . I shall ere l\n",
      "ing Scenes . In connexion with the monstrous pictures of whales , I am strongly\n",
      "ere to enter upon those still more monstrous stories of them which are to be fo\n",
      "ght have been rummaged out of this monstrous cabinet there is no telling . But \n",
      "of Whale - Bones ; for Whales of a monstrous size are oftentimes cast up dead u\n",
      "Displaying 25 of 87 matches:\n",
      "t $ 370 million *U* . The federal government suspended sales of U.S. savings b\n",
      "ess has n't lifted the ceiling on government debt . Until Congress acts , the \n",
      " debt . Until Congress acts , the government has n't any authority * to issue \n",
      ", the Treasury said 0 *T*-1 . The government 's borrowing authority dropped at\n",
      "nomic sluggishness , according to government figures released * Wednesday . Pr\n",
      " conflicts and sluggish exports . Government officials said 0 exports at the e\n",
      " of the year would remain under a government target of $ 68 billion *U* . Desp\n",
      "Rapanelli recently has said 0 the government of President Carlos Menem , who *\n",
      "veloped *-36 after the Australian government decided in 1987 *-2 to make the f\n",
      " Russian debts owed * to the U.S. government , the State Department said 0 *T*\n",
      "s short-lived democratic Kerensky government before the Communists seized powe\n",
      " countries in default to the U.S. government , unless they are members of the \n",
      "the economy is leveling off , the government said that orders for manufactured\n",
      "struction spending was down , but government building activity was up . The fi\n",
      "with no sector showing strength . Government construction spending rose 4.3 % \n",
      " % above last year 's level . The government 's construction spending figures \n",
      "they are awarded *-54 *T*-1 . The government includes money spent * on residen\n",
      "the Central Plaza Hotel , but the government balked at the hotel 's conditions\n",
      "wspaper said 0 *T*-1 . The Polish government increased home electricity charge\n",
      "o the financially strapped Warsaw government . In a victory for environmentali\n",
      "ance and as a symbol of the Vichy government 's hypocrisy . While Vichy collab\n",
      ". In Thailand , for example , the government 's Board of Investment approved $\n",
      "a -RRB- . Moreover , the Japanese government , now the world 's largest aid do\n",
      "ed-flag a criminal problem to the government , '' added Mr. Sonnett , a Miami \n",
      "ch individuals would n't want the government to know 0 they had retained crimi\n"
     ]
    }
   ],
   "source": [
    "# A concordance view shows us every occurrence of a given word, together with some context. \n",
    "text1.concordance(\"monstrous\")\n",
    "text7.concordance(\"government\")"
   ]
  },
  {
   "cell_type": "code",
   "execution_count": 10,
   "metadata": {
    "collapsed": false
   },
   "outputs": [
    {
     "name": "stdout",
     "output_type": "stream",
     "text": [
      "imperial subtly impalpable pitiable curious abundant perilous\n",
      "trustworthy untoward singular lamentable few determined maddens\n",
      "horrible tyrannical lazy mystifying christian exasperate\n",
      "-------------------\n",
      "very exceedingly so heartily a great good amazingly as sweet\n",
      "remarkably extremely vast\n",
      "-------------------\n",
      "No matches\n"
     ]
    }
   ],
   "source": [
    "# A concordance permits to see words in context. We can find similar words through finding words that appear \n",
    "# in a similar range of contexts\n",
    "text1.similar(\"monstrous\")\n",
    "print '-' * 19\n",
    "text2.similar(\"monstrous\")\n",
    "\n",
    "# Here we get quite different results from different text.\n",
    "# This reveals different \"style\" of the writers\n",
    "print '-' * 19\n",
    "text7.similar(\"monstrous\")\n"
   ]
  },
  {
   "cell_type": "code",
   "execution_count": 13,
   "metadata": {
    "collapsed": false
   },
   "outputs": [
    {
     "name": "stdout",
     "output_type": "stream",
     "text": [
      "a_pretty is_pretty a_lucky am_glad be_glad\n",
      "-------------------\n",
      "be_glad is_fond\n",
      "-------------------\n",
      "most_and\n"
     ]
    }
   ],
   "source": [
    "# The term common_contexts allows examine the contexts that are shred by two or more words,\n",
    "# such as monstrous and very\n",
    "text2.common_contexts([\"monstrous\", \"very\"])\n",
    "print '-' * 19\n",
    "text2.common_contexts([\"monstrous\", \"exceedingly\"])\n",
    "print '-' * 19\n",
    "text1.common_contexts([\"monstrous\", \"imperial\"])"
   ]
  },
  {
   "cell_type": "code",
   "execution_count": 15,
   "metadata": {
    "collapsed": false
   },
   "outputs": [
    {
     "data": {
      "image/png": "[encoded data removed]",
      "text/plain": [
       "<matplotlib.figure.Figure at 0x2865e278>"
      ]
     },
     "metadata": {},
     "output_type": "display_data"
    }
   ],
   "source": [
    "%matplotlib inline\n",
    "# show the location of a word in the text\n",
    "# examine the Inaugural Address Corpus\n",
    "text4.dispersion_plot([\"citizens\", \"democracy\", \"freedom\", \"America\", \"duties\", \"love\"])"
   ]
  },
  {
   "cell_type": "code",
   "execution_count": 52,
   "metadata": {
    "collapsed": false
   },
   "outputs": [
    {
     "name": "stdout",
     "output_type": "stream",
     "text": [
      "44764\n",
      "2789\n",
      "Moby Dick by Herman Melville 1851 : 0.074063\n",
      "Sense and Sensibility by Jane Austen 1811 : 0.026198\n",
      "The Book of Genesis : 0.010693\n",
      "Inaugural Address Corpus : 0.037398\n",
      "Chat Corpus : 0.023258\n",
      "Monty Python and the Holy Grail : 0.008305\n",
      "Wall Street Journal : 0.047573\n",
      "Personals Corpus : 0.004248\n",
      "The Man Who Was Thursday by G . K . Chesterton 1908 : 0.026099\n"
     ]
    }
   ],
   "source": [
    "# Counting Vocabulary\n",
    "print len(text3)\n",
    "sorted(set(text3))\n",
    "print len(set(text3))\n",
    "# Counting lexical richness\n",
    "from __future__ import division\n",
    "\n",
    "print \"%s : %f\" % (text1.name, (len(set(text1))/len(text1)))\n",
    "print \"%s : %f\" % (text2.name, (len(set(text2))/len(text1)))\n",
    "print \"%s : %f\" % (text3.name, (len(set(text3))/len(text1)))\n",
    "print \"%s : %f\" % (text4.name, (len(set(text4))/len(text1)))\n",
    "print \"%s : %f\" % (text5.name, (len(set(text5))/len(text1)))\n",
    "print \"%s : %f\" % (text6.name, (len(set(text6))/len(text1)))\n",
    "print \"%s : %f\" % (text7.name, (len(set(text7))/len(text1)))\n",
    "print \"%s : %f\" % (text8.name, (len(set(text8))/len(text1)))\n",
    "print \"%s : %f\" % (text9.name, (len(set(text9))/len(text1)))\n",
    "\n",
    "def lexical_diversity(text):\n",
    "    return len(set(text))/len(text)\n"
   ]
  },
  {
   "cell_type": "code",
   "execution_count": 53,
   "metadata": {
    "collapsed": false
   },
   "outputs": [],
   "source": [
    "# Focus on a particular word\n",
    "100 * text4.count(\"a\")/len(text4)\n",
    "\n",
    "def word_percentage(word, text):\n",
    "    return 100 * text.count(word)/len(text)"
   ]
  },
  {
   "cell_type": "code",
   "execution_count": 54,
   "metadata": {
    "collapsed": false
   },
   "outputs": [
    {
     "name": "stdout",
     "output_type": "stream",
     "text": [
      "0.0669297011699\n",
      "1.46430164339\n"
     ]
    }
   ],
   "source": [
    "print lexical_diversity(text4)\n",
    "print word_percentage(\"a\", text4)"
   ]
  },
  {
   "cell_type": "code",
   "execution_count": 86,
   "metadata": {
    "collapsed": false
   },
   "outputs": [
    {
     "name": "stdout",
     "output_type": "stream",
     "text": [
      "['The', 'family', 'of', 'Dashwood', 'had', 'long', 'been', 'settled', 'in', 'Sussex', '.', 'In', 'the', 'beginning', 'God', 'created', 'the', 'heaven', 'and', 'the', 'earth', '.']\n",
      "abcd\n",
      "asylum\n",
      "['Sussex', '.'] 11\n",
      "['The', 'family', 'of', 'Dashwood', 'had', 'long', 'been', 'settled', 'in', 'Sussex', '.']\n"
     ]
    }
   ],
   "source": [
    "# Text as list of words\n",
    "sent1 = ['The', 'family', 'of', 'Dashwood', 'had', 'long', 'been', 'settled', 'in', 'Sussex', '.']\n",
    "sent2 = ['In', 'the', 'beginning', 'God', 'created', 'the', 'heaven', 'and', 'the', 'earth', '.']\n",
    "# concatenation\n",
    "print sent1 + sent2 \n",
    "print 'a' + 'bcd'\n",
    "# Index text\n",
    "print text4[101]\n",
    "print sent1[-2:], len(sent1)\n",
    "print sent1[:100]"
   ]
  },
  {
   "cell_type": "code",
   "execution_count": 76,
   "metadata": {
    "collapsed": false
   },
   "outputs": [
    {
     "name": "stdout",
     "output_type": "stream",
     "text": [
      "<class 'nltk.probability.FreqDist'>\n",
      "[(u',', 18713), (u'the', 13721), (u'.', 6862), (u'of', 6536), (u'and', 6024), (u'a', 4569), (u'to', 4542), (u';', 4072), (u'in', 3916), (u'that', 2982), (u\"'\", 2684), (u'-', 2552), (u'his', 2459), (u'it', 2209), (u'I', 2124), (u's', 1739), (u'is', 1695), (u'he', 1661), (u'with', 1659), (u'was', 1632)]\n"
     ]
    },
    {
     "data": {
      "image/png": "[encoded data removed]",
      "text/plain": [
       "<matplotlib.figure.Figure at 0x289df2e8>"
      ]
     },
     "metadata": {},
     "output_type": "display_data"
    },
    {
     "name": "stdout",
     "output_type": "stream",
     "text": [
      "906\n",
      "[u'funereal', u'unscientific', u'prefix', u'plaudits', u'woody', u'disobeying', u'Westers', u'DRYDEN', u'Untried', u'superficially', u'vesper', u'Western', u'Spurn', u'treasuries', u'powders', u'tinkerings', u'bolting', u'stabbed', u'elevations', u'ferreting', u'wooded', u'songster', u'Saco', u'clings', u'Winding', u'Sands', u'spindle', u'ornamental', u'charter', u'puissant', u'miller', u'cordially', u'railing', u'mail', u'Hecla', u'compliance', u'haughtily', u'relieving', u'BERMUDAS', u'contributed', u'shamble', u'fossil', u'sneering', u'avers', u'intellects', u'Plate', u'gayer', u'Fiery', u'primogenitures', u'gaffs', u'fissures', u'whiffs', u'unwillingness', u'climbed', u'unfriendly', u'reports', u'circumferences', u'electricity', u'misgrown', u'transfixed', u'NOT', u'rebel', u'precincts', u'shabbily', u'summons', u'Hardicanutes', u'remnant', u'Wales', u'sinew', u'painters', u'cherishing', u'handedness', u'exhort', u'glimmering', u'accommodation', u'occupying', u'reverenced', u'passport', u'icebound', u'suffocated', u'Blind', u'Biographical', u'canonized', u'99', u'diademed', u'menaced', u'91', u'90', u'extorting', u'97', u'tastefully', u'morally', u'PREBLE', u'archaeological', u'moidores', u'ELLERY', u'misfortunes', u'OWEN', u'organized', u'Reality']\n"
     ]
    }
   ],
   "source": [
    "# Simple Statistics\n",
    "# Frequency distribution\n",
    "fd1 = FreqDist(text1)\n",
    "print type(fd1)\n",
    "print fd1.most_common(20)\n",
    "fd1.plot(50, cumulative=True)\n",
    "print fd1['whale']\n",
    "# the hapaxes: words that occur only once\n",
    "print fd1.hapaxes()[:100]"
   ]
  },
  {
   "cell_type": "code",
   "execution_count": 81,
   "metadata": {
    "collapsed": false
   },
   "outputs": [
    {
     "name": "stdout",
     "output_type": "stream",
     "text": [
      "[u'unscientific', u'superficially', u'tantalizing', u'hilariously', u'contributed', u'exclamations', u'primogenitures', u'unwillingness', u'circumferences', u'electricity', u'punctilious', u'classification', u'Hardicanutes', u'accommodation', u'fossiliferous', u'Biographical', u'circumstances', u'archaeological', u'misfortunes', u'Physiognomist', u'embellishments', u'hesitatingly', u'significance', u'abstraction', u'homewardbound', u'persuasiveness', u'immitigable', u'pyramidical', u'incoherences', u'interfering', u'intercepted', u'preciousness', u'elucidating', u'specialties', u'foremastmen', u'encountering', u'universally', u'pitchpoling']\n"
     ]
    }
   ],
   "source": [
    "# Fine-grained selection of words\n",
    "v1 = set(text1)\n",
    "long_words = [w for w in v1 if len(w) > 10]\n",
    "print long_words[:int(len(long_words)/50)]"
   ]
  },
  {
   "cell_type": "code",
   "execution_count": null,
   "metadata": {
    "collapsed": true
   },
   "outputs": [],
   "source": []
  }
 ],
 "metadata": {
  "kernelspec": {
   "display_name": "Python 2",
   "language": "python",
   "name": "python2"
  },
  "language_info": {
   "codemirror_mode": {
    "name": "ipython",
    "version": 2
   },
   "file_extension": ".py",
   "mimetype": "text/x-python",
   "name": "python",
   "nbconvert_exporter": "python",
   "pygments_lexer": "ipython2",
   "version": "2.7.9"
  }
 },
 "nbformat": 4,
 "nbformat_minor": 0
}
